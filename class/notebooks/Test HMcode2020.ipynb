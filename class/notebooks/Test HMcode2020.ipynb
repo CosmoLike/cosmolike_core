{
 "cells": [
  {
   "cell_type": "code",
   "execution_count": 1,
   "id": "09ce2608",
   "metadata": {},
   "outputs": [],
   "source": [
    "import numpy as np\n",
    "import camb\n",
    "import hmcode\n",
    "import matplotlib.pyplot as plt\n",
    "%matplotlib inline \n"
   ]
  },
  {
   "cell_type": "code",
   "execution_count": 2,
   "id": "b59c8aaa",
   "metadata": {},
   "outputs": [
    {
     "data": {
      "text/plain": [
       "'/home/groups/risahw/chto/miniconda3/envs/newenv4/lib/python3.9/site-packages/hmcode/__init__.py'"
      ]
     },
     "execution_count": 2,
     "metadata": {},
     "output_type": "execute_result"
    }
   ],
   "source": [
    "hmcode.__file__"
   ]
  },
  {
   "cell_type": "code",
   "execution_count": 3,
   "id": "59fa9372",
   "metadata": {},
   "outputs": [
    {
     "data": {
      "text/plain": [
       "0.15470606409572227"
      ]
     },
     "execution_count": 3,
     "metadata": {},
     "output_type": "execute_result"
    }
   ],
   "source": [
    "0.022032/(0.12038+0.022032)"
   ]
  },
  {
   "cell_type": "code",
   "execution_count": 8,
   "id": "287dce89",
   "metadata": {},
   "outputs": [],
   "source": [
    "# Ranges\n",
    "camb.set_params(verbose=True)\n",
    "k_hmcode = np.logspace(-3, 1.5, 100) # Wavenumbers [h/Mpc]\n",
    "zs = [ 0.]  # Redshifts\n",
    "initPower = camb.initialpower.InitialPowerLaw(As=2.215e-9, ns= 0.9619)\n",
    "nonlinear = camb.nonlinear.Halofit()\n",
    "nonlinear.set_params(halofit_version='mead2020_feedback')#, HMCode_logT_AGN=-20,)\n",
    "# Run CAMB\n",
    "#omnuh2=0.000644866570625114,\n",
    "parameters = camb.CAMBparams(WantCls=False,InitPower=initPower, NonLinearModel =nonlinear, num_nu_massive=1,num_nu_massless=2.044,omnuh2=0.000644866570625114)#,,nu_mass_eigenstates = 1,share_delta_neff=True)\n",
    "parameters.set_cosmology(H0=67.556, omch2=0.12038, ombh2=0.022032,omk=0, TCMB=2.725,YHe=0.24, )\n",
    "parameters.set_matter_power(redshifts=zs, kmax=100.) # kmax should be much larger than the wavenumber of interest\n",
    "results = camb.get_results(parameters)\n",
    "\n",
    "# HMcode\n",
    "Pk_hmcode = hmcode.power(k_hmcode, zs, results)"
   ]
  },
  {
   "cell_type": "code",
   "execution_count": 9,
   "id": "fc2cddbe",
   "metadata": {},
   "outputs": [
    {
     "data": {
      "text/plain": [
       "class: <CAMBdata>\n",
       " Params: <CAMBparams>\n",
       "   WantCls = False\n",
       "   WantTransfer = True\n",
       "   WantScalars = True\n",
       "   WantTensors = False\n",
       "   WantVectors = False\n",
       "   WantDerivedParameters = True\n",
       "   Want_cl_2D_array = True\n",
       "   Want_CMB = True\n",
       "   Want_CMB_lensing = True\n",
       "   DoLensing = True\n",
       "   NonLinear = NonLinear_none\n",
       "   Transfer: <TransferParams>\n",
       "     high_precision = True\n",
       "     accurate_massive_neutrinos = False\n",
       "     kmax = 100.0\n",
       "     k_per_logint = 0\n",
       "     PK_num_redshifts = 1\n",
       "     PK_redshifts = [0.0]\n",
       "   want_zstar = False\n",
       "   want_zdrag = False\n",
       "   min_l = 2\n",
       "   max_l = 2500\n",
       "   max_l_tensor = 600\n",
       "   max_eta_k = 5000.0\n",
       "   max_eta_k_tensor = 1200.0\n",
       "   ombh2 = 0.022032\n",
       "   omch2 = 0.12038\n",
       "   omk = 0.0\n",
       "   omnuh2 = 0.0006445117284262014\n",
       "   H0 = 67.556\n",
       "   TCMB = 2.725\n",
       "   YHe = 0.24\n",
       "   num_nu_massless = 2.0293333333333337\n",
       "   num_nu_massive = 1\n",
       "   nu_mass_eigenstates = 1\n",
       "   share_delta_neff = False\n",
       "   nu_mass_degeneracies = [1.0146666666666666]\n",
       "   nu_mass_fractions = [1.0]\n",
       "   nu_mass_numbers = [1]\n",
       "   InitPower: <InitialPowerLaw>\n",
       "     tensor_parameterization = tensor_param_rpivot\n",
       "     ns = 0.9619\n",
       "     nrun = 0.0\n",
       "     nrunrun = 0.0\n",
       "     nt = -0.0\n",
       "     ntrun = -0.0\n",
       "     r = 0.0\n",
       "     pivot_scalar = 0.05\n",
       "     pivot_tensor = 0.05\n",
       "     As = 2.215e-09\n",
       "     At = 1.0\n",
       "   Recomb: <Recfast>\n",
       "     min_a_evolve_Tm = 0.0011098779505118728\n",
       "     RECFAST_fudge = 1.125\n",
       "     RECFAST_fudge_He = 0.86\n",
       "     RECFAST_Heswitch = 6\n",
       "     RECFAST_Hswitch = True\n",
       "     AGauss1 = -0.14\n",
       "     AGauss2 = 0.079\n",
       "     zGauss1 = 7.28\n",
       "     zGauss2 = 6.73\n",
       "     wGauss1 = 0.18\n",
       "     wGauss2 = 0.33\n",
       "   Reion: <TanhReionization>\n",
       "     Reionization = True\n",
       "     use_optical_depth = False\n",
       "     redshift = 10.0\n",
       "     optical_depth = 0.0\n",
       "     delta_redshift = 0.5\n",
       "     fraction = -1.0\n",
       "     include_helium_fullreion = True\n",
       "     helium_redshift = 3.5\n",
       "     helium_delta_redshift = 0.4\n",
       "     helium_redshiftstart = 5.5\n",
       "     tau_solve_accuracy_boost = 1.0\n",
       "     timestep_boost = 1.0\n",
       "     max_redshift = 50.0\n",
       "   DarkEnergy: <DarkEnergyFluid>\n",
       "     w = -1.0\n",
       "     wa = 0.0\n",
       "     cs2 = 1.0\n",
       "     use_tabulated_w = False\n",
       "   NonLinearModel: <Halofit>\n",
       "     Min_kh_nonlinear = 0.005\n",
       "     halofit_version = mead2020_feedback\n",
       "     HMCode_A_baryon = 3.13\n",
       "     HMCode_eta_baryon = 0.603\n",
       "     HMCode_logT_AGN = 7.8\n",
       "   Accuracy: <AccuracyParams>\n",
       "     AccuracyBoost = 1.0\n",
       "     lSampleBoost = 1.0\n",
       "     lAccuracyBoost = 1.0\n",
       "     AccuratePolarization = True\n",
       "     AccurateBB = False\n",
       "     AccurateReionization = True\n",
       "     TimeStepBoost = 1.0\n",
       "     BackgroundTimeStepBoost = 1.0\n",
       "     IntTolBoost = 1.0\n",
       "     SourcekAccuracyBoost = 1.0\n",
       "     IntkAccuracyBoost = 1.0\n",
       "     TransferkBoost = 1.0\n",
       "     NonFlatIntAccuracyBoost = 1.0\n",
       "     BessIntBoost = 1.0\n",
       "     LensingBoost = 1.0\n",
       "     NonlinSourceBoost = 1.0\n",
       "     BesselBoost = 1.0\n",
       "     LimberBoost = 1.0\n",
       "     SourceLimberBoost = 1.0\n",
       "     KmaxBoost = 1.0\n",
       "     neutrino_q_boost = 1.0\n",
       "   SourceTerms: <SourceTermParams>\n",
       "     limber_windows = False\n",
       "     limber_phi_lmin = 100\n",
       "     counts_density = True\n",
       "     counts_redshift = True\n",
       "     counts_lensing = False\n",
       "     counts_velocity = True\n",
       "     counts_radial = False\n",
       "     counts_timedelay = True\n",
       "     counts_ISW = True\n",
       "     counts_potential = True\n",
       "     counts_evolve = False\n",
       "     line_phot_dipole = False\n",
       "     line_phot_quadrupole = False\n",
       "     line_basic = True\n",
       "     line_distortions = True\n",
       "     line_extra = False\n",
       "     line_reionization = False\n",
       "     use_21cm_mK = True\n",
       "   z_outputs = []\n",
       "   scalar_initial_condition = initial_adiabatic\n",
       "   InitialConditionVector = []\n",
       "   OutputNormalization = 1\n",
       "   Alens = 1.0\n",
       "   MassiveNuMethod = Nu_best\n",
       "   DoLateRadTruncation = True\n",
       "   Evolve_baryon_cs = False\n",
       "   Evolve_delta_xe = False\n",
       "   Evolve_delta_Ts = False\n",
       "   Do21cm = False\n",
       "   transfer_21cm_cl = False\n",
       "   Log_lvalues = False\n",
       "   use_cl_spline_template = True\n",
       "   SourceWindows = []\n",
       "   CustomSources: <CustomSources>\n",
       "     num_custom_sources = 0\n",
       "     c_source_func = None\n",
       "     custom_source_ell_scales = []\n",
       " ThermoDerivedParams = [13.778237951578754, 1090.3607781945418, 144.6205434765629, 1.0431747230735924, 13.863501509167648, 1059.2264944507895, 147.39116572425826, 0.1405167959541272, 0.161268185730211, 3406.384189774261, 0.01039177698287806, 0.8132312476995828, 0.44965233905835805]\n",
       " flat = True\n",
       " closed = False\n",
       " grhocrit = 1.523378082476592e-07\n",
       " grhog = 8.248612717308974e-12\n",
       " grhor = 1.873320308646176e-12\n",
       " grhob = 7.354171810491997e-09\n",
       " grhoc = 4.018224412432038e-08\n",
       " grhov = 1.0457420730555495e-07\n",
       " grhornomass = 3.801591346345974e-12\n",
       " grhok = 0.0\n",
       " taurst = 205.5044921823356\n",
       " dtaurec = 5.137612304558391\n",
       " taurend = 600.2736560172848\n",
       " tau_maxvis = 280.72217393163606\n",
       " adotrad = 2.1564631333758785e-06\n",
       " omega_de = 0.686462595914116\n",
       " curv = 0.0\n",
       " curvature_radius = 1.0\n",
       " Ksign = 0.0\n",
       " tau0 = 14143.924013172147\n",
       " chi0 = 14143.924013172147\n",
       " scale = 1.0\n",
       " akthom = 3.857710657408332e-07\n",
       " fHe = 0.07951538891741466\n",
       " Nnow = 0.1879303473896489\n",
       " z_eq = 3406.384189774261\n",
       " grhormass = [1.9007956731729867e-12, 0.0, 0.0, 0.0, 0.0]\n",
       " nu_masses = [356.65897015559267, 0.0, 0.0, 0.0, 0.0]\n",
       " num_transfer_redshifts = 1\n",
       " transfer_redshifts = [0.0]\n",
       " PK_redshifts_index = [1, 0, 0, 0, 0, 0, 0, ...]\n",
       " OnlyTransfers = False\n",
       " HasScalarTimeSources = False\n",
       " "
      ]
     },
     "execution_count": 9,
     "metadata": {},
     "output_type": "execute_result"
    }
   ],
   "source": [
    "results"
   ]
  },
  {
   "cell_type": "code",
   "execution_count": 10,
   "id": "9eba8dd0",
   "metadata": {},
   "outputs": [],
   "source": [
    "Pk_nonlin_interp = results.get_matter_power_interpolator(nonlinear=True).P\n",
    "Pk_CAMB = np.zeros(len(k_hmcode))\n",
    "Pk_CAMB = Pk_nonlin_interp(zs[0], k_hmcode)"
   ]
  },
  {
   "cell_type": "code",
   "execution_count": 11,
   "id": "b1053706",
   "metadata": {},
   "outputs": [],
   "source": [
    "Pk_nonlin_interp = results.get_matter_power_interpolator(nonlinear=False).P\n",
    "Pk_CAMB_lin = np.zeros(len(k_hmcode))\n",
    "Pk_CAMB_lin = Pk_nonlin_interp(zs[0], k_hmcode)"
   ]
  },
  {
   "cell_type": "code",
   "execution_count": 12,
   "id": "f8f7e7d8",
   "metadata": {},
   "outputs": [
    {
     "data": {
      "text/plain": [
       "class: <CAMBdata>\n",
       " Params: <CAMBparams>\n",
       "   WantCls = False\n",
       "   WantTransfer = True\n",
       "   WantScalars = True\n",
       "   WantTensors = False\n",
       "   WantVectors = False\n",
       "   WantDerivedParameters = True\n",
       "   Want_cl_2D_array = True\n",
       "   Want_CMB = True\n",
       "   Want_CMB_lensing = True\n",
       "   DoLensing = True\n",
       "   NonLinear = NonLinear_none\n",
       "   Transfer: <TransferParams>\n",
       "     high_precision = True\n",
       "     accurate_massive_neutrinos = False\n",
       "     kmax = 100.0\n",
       "     k_per_logint = 0\n",
       "     PK_num_redshifts = 1\n",
       "     PK_redshifts = [0.0]\n",
       "   want_zstar = False\n",
       "   want_zdrag = False\n",
       "   min_l = 2\n",
       "   max_l = 2500\n",
       "   max_l_tensor = 600\n",
       "   max_eta_k = 5000.0\n",
       "   max_eta_k_tensor = 1200.0\n",
       "   ombh2 = 0.022032\n",
       "   omch2 = 0.12038\n",
       "   omk = 0.0\n",
       "   omnuh2 = 0.0006445117284262014\n",
       "   H0 = 67.556\n",
       "   TCMB = 2.725\n",
       "   YHe = 0.24\n",
       "   num_nu_massless = 2.0293333333333337\n",
       "   num_nu_massive = 1\n",
       "   nu_mass_eigenstates = 1\n",
       "   share_delta_neff = False\n",
       "   nu_mass_degeneracies = [1.0146666666666666]\n",
       "   nu_mass_fractions = [1.0]\n",
       "   nu_mass_numbers = [1]\n",
       "   InitPower: <InitialPowerLaw>\n",
       "     tensor_parameterization = tensor_param_rpivot\n",
       "     ns = 0.9619\n",
       "     nrun = 0.0\n",
       "     nrunrun = 0.0\n",
       "     nt = -0.0\n",
       "     ntrun = -0.0\n",
       "     r = 0.0\n",
       "     pivot_scalar = 0.05\n",
       "     pivot_tensor = 0.05\n",
       "     As = 2.215e-09\n",
       "     At = 1.0\n",
       "   Recomb: <Recfast>\n",
       "     min_a_evolve_Tm = 0.0011098779505118728\n",
       "     RECFAST_fudge = 1.125\n",
       "     RECFAST_fudge_He = 0.86\n",
       "     RECFAST_Heswitch = 6\n",
       "     RECFAST_Hswitch = True\n",
       "     AGauss1 = -0.14\n",
       "     AGauss2 = 0.079\n",
       "     zGauss1 = 7.28\n",
       "     zGauss2 = 6.73\n",
       "     wGauss1 = 0.18\n",
       "     wGauss2 = 0.33\n",
       "   Reion: <TanhReionization>\n",
       "     Reionization = True\n",
       "     use_optical_depth = False\n",
       "     redshift = 10.0\n",
       "     optical_depth = 0.0\n",
       "     delta_redshift = 0.5\n",
       "     fraction = -1.0\n",
       "     include_helium_fullreion = True\n",
       "     helium_redshift = 3.5\n",
       "     helium_delta_redshift = 0.4\n",
       "     helium_redshiftstart = 5.5\n",
       "     tau_solve_accuracy_boost = 1.0\n",
       "     timestep_boost = 1.0\n",
       "     max_redshift = 50.0\n",
       "   DarkEnergy: <DarkEnergyFluid>\n",
       "     w = -1.0\n",
       "     wa = 0.0\n",
       "     cs2 = 1.0\n",
       "     use_tabulated_w = False\n",
       "   NonLinearModel: <Halofit>\n",
       "     Min_kh_nonlinear = 0.005\n",
       "     halofit_version = mead2020_feedback\n",
       "     HMCode_A_baryon = 3.13\n",
       "     HMCode_eta_baryon = 0.603\n",
       "     HMCode_logT_AGN = 7.8\n",
       "   Accuracy: <AccuracyParams>\n",
       "     AccuracyBoost = 1.0\n",
       "     lSampleBoost = 1.0\n",
       "     lAccuracyBoost = 1.0\n",
       "     AccuratePolarization = True\n",
       "     AccurateBB = False\n",
       "     AccurateReionization = True\n",
       "     TimeStepBoost = 1.0\n",
       "     BackgroundTimeStepBoost = 1.0\n",
       "     IntTolBoost = 1.0\n",
       "     SourcekAccuracyBoost = 1.0\n",
       "     IntkAccuracyBoost = 1.0\n",
       "     TransferkBoost = 1.0\n",
       "     NonFlatIntAccuracyBoost = 1.0\n",
       "     BessIntBoost = 1.0\n",
       "     LensingBoost = 1.0\n",
       "     NonlinSourceBoost = 1.0\n",
       "     BesselBoost = 1.0\n",
       "     LimberBoost = 1.0\n",
       "     SourceLimberBoost = 1.0\n",
       "     KmaxBoost = 1.0\n",
       "     neutrino_q_boost = 1.0\n",
       "   SourceTerms: <SourceTermParams>\n",
       "     limber_windows = False\n",
       "     limber_phi_lmin = 100\n",
       "     counts_density = True\n",
       "     counts_redshift = True\n",
       "     counts_lensing = False\n",
       "     counts_velocity = True\n",
       "     counts_radial = False\n",
       "     counts_timedelay = True\n",
       "     counts_ISW = True\n",
       "     counts_potential = True\n",
       "     counts_evolve = False\n",
       "     line_phot_dipole = False\n",
       "     line_phot_quadrupole = False\n",
       "     line_basic = True\n",
       "     line_distortions = True\n",
       "     line_extra = False\n",
       "     line_reionization = False\n",
       "     use_21cm_mK = True\n",
       "   z_outputs = []\n",
       "   scalar_initial_condition = initial_adiabatic\n",
       "   InitialConditionVector = []\n",
       "   OutputNormalization = 1\n",
       "   Alens = 1.0\n",
       "   MassiveNuMethod = Nu_best\n",
       "   DoLateRadTruncation = True\n",
       "   Evolve_baryon_cs = False\n",
       "   Evolve_delta_xe = False\n",
       "   Evolve_delta_Ts = False\n",
       "   Do21cm = False\n",
       "   transfer_21cm_cl = False\n",
       "   Log_lvalues = False\n",
       "   use_cl_spline_template = True\n",
       "   SourceWindows = []\n",
       "   CustomSources: <CustomSources>\n",
       "     num_custom_sources = 0\n",
       "     c_source_func = None\n",
       "     custom_source_ell_scales = []\n",
       " ThermoDerivedParams = [13.778237951578754, 1090.3607781945418, 144.6205434765629, 1.0431747230735924, 13.863501509167648, 1059.2264944507895, 147.39116572425826, 0.1405167959541272, 0.161268185730211, 3406.384189774261, 0.01039177698287806, 0.8132312476995828, 0.44965233905835805]\n",
       " flat = True\n",
       " closed = False\n",
       " grhocrit = 1.523378082476592e-07\n",
       " grhog = 8.248612717308974e-12\n",
       " grhor = 1.873320308646176e-12\n",
       " grhob = 7.354171810491997e-09\n",
       " grhoc = 4.018224412432038e-08\n",
       " grhov = 1.0457420730555495e-07\n",
       " grhornomass = 3.801591346345974e-12\n",
       " grhok = 0.0\n",
       " taurst = 205.5044921823356\n",
       " dtaurec = 5.137612304558391\n",
       " taurend = 600.2736560172848\n",
       " tau_maxvis = 280.72217393163606\n",
       " adotrad = 2.1564631333758785e-06\n",
       " omega_de = 0.686462595914116\n",
       " curv = 0.0\n",
       " curvature_radius = 1.0\n",
       " Ksign = 0.0\n",
       " tau0 = 14143.924013172147\n",
       " chi0 = 14143.924013172147\n",
       " scale = 1.0\n",
       " akthom = 3.857710657408332e-07\n",
       " fHe = 0.07951538891741466\n",
       " Nnow = 0.1879303473896489\n",
       " z_eq = 3406.384189774261\n",
       " grhormass = [1.9007956731729867e-12, 0.0, 0.0, 0.0, 0.0]\n",
       " nu_masses = [356.65897015559267, 0.0, 0.0, 0.0, 0.0]\n",
       " num_transfer_redshifts = 1\n",
       " transfer_redshifts = [0.0]\n",
       " PK_redshifts_index = [1, 0, 0, 0, 0, 0, 0, ...]\n",
       " OnlyTransfers = False\n",
       " HasScalarTimeSources = False\n",
       " "
      ]
     },
     "execution_count": 12,
     "metadata": {},
     "output_type": "execute_result"
    }
   ],
   "source": [
    "results"
   ]
  },
  {
   "cell_type": "code",
   "execution_count": 13,
   "id": "60956d93",
   "metadata": {},
   "outputs": [
    {
     "name": "stdout",
     "output_type": "stream",
     "text": [
      "HMcode parameters\n",
      "Halo mass range: 10^0.0 -> 10^18.0 Msun/h\n",
      "Omega_m: 0.313\n",
      "Neutrino mass fraction: 0.45%\n",
      "Linear growth at z=0: 0.787\n",
      "\n",
      "Redshift: 0.0\n",
      "Scale factor: 1.0\n",
      "Omega_m(z): 0.313\n",
      "Un-normalisaed growth (= a for a << 1): 0.787\n",
      "Normalised growth (= 1 at z = 0): 1.0\n",
      "Accumulated growth (= a for a << 1): 0.933\n",
      "Linear collapse threshold: 1.676\n",
      "Virial halo overdensity: 302.6\n",
      "Lagrangian radius range: 0.00014 -> 140.0 Mpc/h\n",
      "RMS in matter field range: 15.68 -> 0.04282\n",
      "Peak height range: 0.1068 -> 39.13\n",
      "Non-linear Lagrangian radius: 2.484 Mpc/h\n",
      "RMS in matter field at 8 Mpc/h: 0.8407\n",
      "RMS in matter displacement field: 6.036 Mpc/h\n",
      "Effective index at collapse scale: -1.992\n",
      "Two-halo damping wavenumber; kd: 0.06885 h/Mpc\n",
      "Two-halo fractional damping; f: 0.229\n",
      "Two-halo damping power; nd: 2.853\n",
      "One-halo damping wavenumber; k*: 0.06698 h/Mpc\n",
      "Halo bloating; eta: 0.1365\n",
      "Minimum halo concentration; B: 5.196\n",
      "Transition smoothing; alpha: 0.7323\n",
      "Rnl: 2.4840925771079587\n",
      "\n",
      "zform: [13.14794282 13.06409988 12.98058431 12.89739613 12.81452791 12.73198331\n",
      " 12.6497585  12.56784465 12.48625048 12.4049669  12.32398849 12.2433201\n",
      " 12.1629564  12.08289735 12.00313037 11.92366773 11.84450327 11.76562985\n",
      " 11.68704703 11.60874636 11.53074419 11.45301482 11.37557564 11.29840755\n",
      " 11.2215305  11.14491278 11.06857542 10.99250708 10.91670739 10.8411763\n",
      " 10.76591403 10.69090598 10.61615084 10.54164732 10.46741248 10.39342956\n",
      " 10.31969826 10.24619799 10.17294759 10.09994777 10.02717517  9.95465319\n",
      "  9.88235647  9.81031166  9.73849132  9.66689425  9.5955193   9.52436548\n",
      "  9.45343202  9.38271843  9.31222454  9.24190784  9.17185251  9.10197071\n",
      "  9.03230678  8.96286251  8.89358335  8.82452282  8.75568391  8.68700384\n",
      "  8.61854552  8.55024159  8.48208392  8.41422981  8.34644321  8.27888135\n",
      "  8.21145865  8.14426765  8.0772132   8.01029027  7.94348701  7.87692743\n",
      "  7.81048734  7.74430425  7.67809426  7.61214374  7.54630061  7.48073302\n",
      "  7.41510342  7.34974962  7.2844961   7.21934157  7.15427987  7.08929808\n",
      "  7.02437248  6.95980946  6.8953182   6.83090312  6.76656489  6.70230001\n",
      "  6.63809957  6.57394656  6.50981039  6.44618362  6.38213566  6.31863511\n",
      "  6.25515425  6.19119811  6.12785175  6.06453793  6.00126132  5.93802241\n",
      "  5.87481663  5.81163215  5.74844559  5.68521394  5.6231209   5.560109\n",
      "  5.4969828   5.43356696  5.37212488  5.308874    5.2474269   5.18425871\n",
      "  5.12296718  5.05970633  4.99874982  4.93499438  4.87463886  4.81365995\n",
      "  4.75236366  4.69100262  4.62975744  4.56872675  4.50652852  4.44587088\n",
      "  4.38542028  4.32510534  4.26348993  4.20325709  4.14318681  4.0833048\n",
      "  4.02224761  3.96264477  3.90330264  3.84401932  3.78351654  3.72444348\n",
      "  3.66572558  3.60721237  3.54761664  3.48944434  3.43154866  3.37376032\n",
      "  3.31490494  3.25754858  3.20055381  3.14364536  3.08566256  3.02917045\n",
      "  2.97302441  2.91699198  2.85998446  2.80436955  2.74908924  2.69401481\n",
      "  2.63917605  2.58323345  2.52890256  2.47476329  2.42087269  2.36591117\n",
      "  2.31253283  2.25935835  2.20643774  2.15246433  2.10006022  2.04786107\n",
      "  1.99591689  1.94294757  1.89152142  1.84030148  1.78933746  1.73736946\n",
      "  1.68691743  1.63667055  1.58667676  1.5356953   1.48619751  1.43689899\n",
      "  1.38784474  1.33781191  1.28922389  1.24082081  1.19264413  1.14348534\n",
      "  1.0957212   1.04811363  1.00069818  0.9522748   0.90517592  0.8581788\n",
      "  0.81130847  0.76336101  0.71664072  0.66994607  0.62330431  0.57551414\n",
      "  0.52886052  0.48213742  0.43535389  0.38727521  0.34016825  0.29279743\n",
      "  0.2451341   0.19586231  0.14724404  0.09796706  0.04794443  0.\n",
      "  0.          0.          0.          0.          0.          0.\n",
      "  0.          0.          0.          0.          0.          0.\n",
      "  0.          0.          0.          0.          0.          0.\n",
      "  0.          0.          0.          0.          0.          0.\n",
      "  0.          0.          0.          0.          0.          0.\n",
      "  0.          0.          0.          0.          0.          0.\n",
      "  0.          0.          0.          0.          0.          0.\n",
      "  0.          0.          0.          0.        ]\n",
      "HMcode predictions complete for 1 redshifts\n",
      "Total HMcode run time: 0.253s\n"
     ]
    }
   ],
   "source": [
    "Pk = hmcode.power(k_hmcode, zs, results, verbose=True)"
   ]
  },
  {
   "cell_type": "code",
   "execution_count": null,
   "id": "ef47db63",
   "metadata": {},
   "outputs": [],
   "source": []
  },
  {
   "cell_type": "code",
   "execution_count": 14,
   "id": "f2a28d4f",
   "metadata": {},
   "outputs": [],
   "source": [
    "interp, _, k_interp = results.get_matter_power_interpolator(nonlinear=False, \n",
    "                                                                     return_z_k=True,\n",
    "                                                                     extrap_kmax=1E10)\n",
    "Pk_lin_interp = interp.P\n",
    "kmin = k_interp[0] # Minimum wavenumber used for the CAMB interpolator [h/Mpc]\n"
   ]
  },
  {
   "cell_type": "code",
   "execution_count": 15,
   "id": "0080dcbd",
   "metadata": {},
   "outputs": [
    {
     "data": {
      "text/plain": [
       "7.401267066597939e-05"
      ]
     },
     "execution_count": 15,
     "metadata": {},
     "output_type": "execute_result"
    }
   ],
   "source": [
    "kmin"
   ]
  },
  {
   "cell_type": "code",
   "execution_count": 16,
   "id": "9877ba65",
   "metadata": {},
   "outputs": [],
   "source": [
    "z=0\n",
    "Pk_lin_interp = interp.P\n",
    "sigmaV = hmcode.cosmology.sigmaV(0., lambda k: Pk_lin_interp(z, k), kmin=kmin) "
   ]
  },
  {
   "cell_type": "code",
   "execution_count": 17,
   "id": "8c8c14d4",
   "metadata": {},
   "outputs": [
    {
     "data": {
      "text/plain": [
       "6.035892896293832"
      ]
     },
     "execution_count": 17,
     "metadata": {},
     "output_type": "execute_result"
    }
   ],
   "source": [
    "sigmaV"
   ]
  },
  {
   "cell_type": "code",
   "execution_count": 18,
   "id": "812adc25",
   "metadata": {},
   "outputs": [],
   "source": [
    "from classy import Class"
   ]
  },
  {
   "cell_type": "code",
   "execution_count": 19,
   "id": "a77ded6a",
   "metadata": {},
   "outputs": [
    {
     "data": {
      "text/plain": [
       "'/home/groups/risahw/chto/miniconda3/envs/newenv4/lib/python3.9/site-packages/classy.cpython-39-x86_64-linux-gnu.so'"
      ]
     },
     "execution_count": 19,
     "metadata": {},
     "output_type": "execute_result"
    }
   ],
   "source": [
    "import classy\n",
    "classy.__file__"
   ]
  },
  {
   "cell_type": "code",
   "execution_count": 20,
   "id": "cb60dd8a",
   "metadata": {},
   "outputs": [],
   "source": [
    "h = 1#0.67556"
   ]
  },
  {
   "cell_type": "code",
   "execution_count": 21,
   "id": "2dfc92c9",
   "metadata": {},
   "outputs": [],
   "source": [
    "# Ranges\n",
    "camb.set_params(verbose=True)\n",
    "k_hmcode = np.logspace(-3, 1.5, 100) # Wavenumbers [h/Mpc]\n",
    "k = k_hmcode*h #np.logspace(-3,np.log10(30),2000)\n",
    "\n",
    "\n",
    "zs = [ 0.]  # Redshifts\n",
    "nonlinear = camb.nonlinear.Halofit()\n",
    "nonlinear.set_params(halofit_version='mead2020_feedback',HMCode_logT_AGN=7.8)#, HMCode_logT_AGN=-20,)\n",
    "pars = camb.CAMBparams(NonLinearModel =nonlinear)\n",
    "\n",
    "#This function sets up CosmoMC-like settings, with one massive neutrino and helium set using BBN consistency\n",
    "pars.set_cosmology(H0=100*h, ombh2 = 0.02225, omch2 = 0.1198, \n",
    "                   tau=0.079, num_massive_neutrinos=1, mnu=0.06,\n",
    "                   standard_neutrino_neff=2.046)\n",
    "pars.InitPower.set_params(As=2.2065e-9, ns=0.9645)\n",
    "pars.set_for_lmax(4000, max_eta_k=12000, lens_potential_accuracy=4);\n",
    "pars.set_accuracy(AccuracyBoost=3, lAccuracyBoost=3, lSampleBoost=3, DoLateRadTruncation=False )\n",
    "pars.AccuratePolarization = True\n",
    "pars.AccurateReionization = True\n",
    "pars.YHe = 0.24\n",
    "pars.omegak = 0.\n",
    "#pars.set_nonlinear_lensing(True)\n",
    "pars.set_matter_power(redshifts=zs, kmax=100.) # kmax should be much larger than the wavenumber of interest\n",
    "\n",
    "results = camb.get_results(pars)\n",
    "\n",
    "Pk_nonlin_interp = results.get_matter_power_interpolator(nonlinear=True).P\n",
    "Pk_CAMB = Pk_nonlin_interp(zs[0], k_hmcode)\n"
   ]
  },
  {
   "cell_type": "code",
   "execution_count": 22,
   "id": "ced9a5be",
   "metadata": {},
   "outputs": [],
   "source": [
    "# Ranges\n",
    "camb.set_params(verbose=True)\n",
    "k_hmcode = np.logspace(-3, 1.5, 100) # Wavenumbers [h/Mpc]\n",
    "zs = [ 0.]  # Redshifts\n",
    "nonlinear = camb.nonlinear.Halofit()\n",
    "nonlinear.set_params(halofit_version='mead2020')#, HMCode_logT_AGN=-20,)\n",
    "pars = camb.CAMBparams(NonLinearModel =nonlinear,)\n",
    "\n",
    "#This function sets up CosmoMC-like settings, with one massive neutrino and helium set using BBN consistency\n",
    "pars.InitPower.set_params(As=2.100549e-09, ns=0.9645)\n",
    "pars.set_cosmology(H0=100*h, ombh2 = 0.02225, omch2 = 0.1198, \n",
    "                   tau=0.06, num_massive_neutrinos=1, mnu=0.06,)\n",
    "                  #nnu =3.046)\n",
    "pars.set_for_lmax(4000, max_eta_k=12000, lens_potential_accuracy=4);\n",
    "pars.set_accuracy(AccuracyBoost=3, lAccuracyBoost=3, lSampleBoost=3, DoLateRadTruncation=False )\n",
    "pars.AccuratePolarization = True\n",
    "pars.AccurateReionization = True\n",
    "pars.YHe = 0.24\n",
    "pars.omegak = 0.\n",
    "#pars.set_nonlinear_lensing(True)\n",
    "pars.set_matter_power(redshifts=zs, kmax=100.) # kmax should be much larger than the wavenumber of interest\n",
    "\n",
    "results = camb.get_results(pars)\n",
    "\n",
    "Pk_nonlin_interp = results.get_matter_power_interpolator(nonlinear=True).P\n",
    "\n",
    "Pk_CAMB_DMonly = Pk_nonlin_interp(zs[0], k_hmcode)\n",
    "Pk_nonlin_interp = results.get_matter_power_interpolator(nonlinear=False).P\n",
    "Pk_CAMB_lin = Pk_nonlin_interp(zs[0], k_hmcode)"
   ]
  },
  {
   "cell_type": "code",
   "execution_count": 23,
   "id": "51abf78e",
   "metadata": {},
   "outputs": [],
   "source": [
    "common_settings = {# wich output? ClTT, transfer functions delta_i and theta_i\n",
    "\n",
    "    'output': 'mPk',\n",
    "    'lensing': 'no',\n",
    "    'omega_b' : 0.02225,\n",
    "    'omega_cdm' : 0.1198,\n",
    "    'h' : h,\n",
    "     'A_s' : 2.100549e-09,\n",
    "    'tau_reio' : 0.06,\n",
    "    'YHe' : 0.24,\n",
    "                        'non linear':\"HMcode2020\",\n",
    "\n",
    "    #'halofit_k_per_decade' : 3000.,\n",
    "    #'l_switch_limber' : 40.,\n",
    "    #'accurate_lensing':1,\n",
    "    #'num_mu_minus_lmax' : 1000.,\n",
    "    #'delta_l_max' : 1000.,\n",
    "#\n",
    "    #\"recfast_Nz0\":100000,\n",
    "    #\"tol_thermo_integration\":1.e-5,\n",
    "    #\"recfast_x_He0_trigger_delta\" : 0.01,\n",
    "    #\"recfast_x_H0_trigger_delta\" : 0.01,\n",
    "    #\"evolver\":0,\n",
    "    #\"k_min_tau0\":0.002,\n",
    "    #\"k_max_tau0_over_l_max\":10.,\n",
    "    #\"k_step_sub\":0.015,\n",
    "    #\"k_step_super\":0.0001,\n",
    "    #\"k_step_super_reduction\":0.1,\n",
    "    #\"start_small_k_at_tau_c_over_tau_h\" : 0.0004,\n",
    "    #\"start_large_k_at_tau_h_over_tau_k\" : 0.05,\n",
    "    #\"tight_coupling_trigger_tau_c_over_tau_h\":0.005,\n",
    "    #\"tight_coupling_trigger_tau_c_over_tau_k\":0.008,\n",
    "    #\"start_sources_at_tau_c_over_tau_h\" : 0.006,\n",
    "    #\"l_max_g\":50,\n",
    "    #\"l_max_pol_g\":25,\n",
    "    #\"l_max_ur\":50,\n",
    "    #\"tol_perturb_integration\":1.e-6,\n",
    "    #\"perturb_sampling_stepsize\":0.01,\n",
    "    #\"radiation_streaming_approximation\" : 2,\n",
    "    #\"radiation_streaming_trigger_tau_over_tau_k\" : 240.,\n",
    "    #\"radiation_streaming_trigger_tau_c_over_tau\" : 100.,\n",
    "    #\"ur_fluid_approximation\" : 2,\n",
    "    #\"ur_fluid_trigger_tau_over_tau_k\" : 50.,\n",
    "    #\"ncdm_fluid_approximation\" : 3,\n",
    "    #\"ncdm_fluid_trigger_tau_over_tau_k\" : 51.,\n",
    "    #\"l_logstep\":1.026,\n",
    "    #\"l_linstep\":25,\n",
    "    #\"hyper_sampling_flat\" : 12.,\n",
    "    #\"hyper_sampling_curved_low_nu\" : 10.,\n",
    "    #\"hyper_sampling_curved_high_nu\" : 10.,\n",
    "    #\"hyper_nu_sampling_step\" : 10.,\n",
    "    #\"hyper_phi_min_abs\" : 1.e-10,\n",
    "    #\"hyper_x_tol\" : 1.e-4,\n",
    "    #\"hyper_flat_approximation_nu\" : 1.e6,\n",
    "    #\"q_linstep\":0.20,\n",
    "    #\"q_logstep_spline\": 20.,\n",
    "    #\"q_logstep_trapzd\" : 0.5,\n",
    "    #\"q_numstep_transition\" : 250,\n",
    "    #\"transfer_neglect_delta_k_S_t0\" : 100.,\n",
    "    #\"transfer_neglect_delta_k_S_t1\" : 100.,\n",
    "    #\"transfer_neglect_delta_k_S_t2\" : 100.,\n",
    "    #\"transfer_neglect_delta_k_S_e\" : 100.,\n",
    "    #\"transfer_neglect_delta_k_V_t1\" : 100.,\n",
    "    #\"transfer_neglect_delta_k_V_t2\" : 100.,\n",
    "    #\"transfer_neglect_delta_k_V_e\" : 100.,\n",
    "    #\"transfer_neglect_delta_k_V_b\" : 100.,\n",
    "    #\"transfer_neglect_delta_k_T_t2\" : 100.,\n",
    "    #\"transfer_neglect_delta_k_T_e\" : 100.,\n",
    "    #\"transfer_neglect_delta_k_T_b\" : 100.,\n",
    "    #\"neglect_CMB_sources_below_visibility\" : 1.e-30,\n",
    "    #\"transfer_neglect_late_source\" : 3000.,\n",
    "#\n",
    "    'P_k_max_1/Mpc':40,\n",
    "    'hmcode2020log10tagn':7.8,\n",
    "    'N_ur':2.046,\n",
    "    'N_ncdm':1,\n",
    "    'm_ncdm' : 0.06\n",
    "}\n",
    "cosmo = Class()\n",
    "cosmo.set(common_settings)\n",
    "cosmo.compute()\n",
    "pkclass = np.array([cosmo.pk(ki,0) for ki in k])\n",
    "\n"
   ]
  },
  {
   "cell_type": "markdown",
   "id": "97101ce2",
   "metadata": {},
   "source": [
    "# "
   ]
  },
  {
   "cell_type": "code",
   "execution_count": 26,
   "id": "166f4d10",
   "metadata": {},
   "outputs": [],
   "source": [
    "common_settings = {# wich output? ClTT, transfer functions delta_i and theta_i\n",
    "\n",
    "    'output': 'mPk',\n",
    "    'lensing': 'no',\n",
    "    'omega_b' : 0.02225,\n",
    "    'omega_cdm' : 0.1198,\n",
    "    'h' : h,\n",
    "     'A_s' : 2.100549e-09,\n",
    "    'n_s' : 0.9645,\n",
    "    'tau_reio' : 0.06,\n",
    "    'YHe' : 0.24,\n",
    "    'non linear':\"HMcode2020\",\n",
    "\n",
    "    #'halofit_k_per_decade' : 3000.,\n",
    "    'l_switch_limber' : 40.,\n",
    "    'accurate_lensing':1,\n",
    "    'num_mu_minus_lmax' : 1000.,\n",
    "    'delta_l_max' : 1000.,\n",
    "\n",
    "    \"recfast_Nz0\":100000,\n",
    "    \"tol_thermo_integration\":1.e-5,\n",
    "    \"recfast_x_He0_trigger_delta\" : 0.01,\n",
    "    \"recfast_x_H0_trigger_delta\" : 0.01,\n",
    "    \"evolver\":0,\n",
    "    \"k_min_tau0\":0.002,\n",
    "    \"k_max_tau0_over_l_max\":10.,\n",
    "    \"k_step_sub\":0.015,\n",
    "    \"k_step_super\":0.0001,\n",
    "    \"k_step_super_reduction\":0.1,\n",
    "    \"start_small_k_at_tau_c_over_tau_h\" : 0.0004,\n",
    "    \"start_large_k_at_tau_h_over_tau_k\" : 0.05,\n",
    "    \"tight_coupling_trigger_tau_c_over_tau_h\":0.005,\n",
    "    \"tight_coupling_trigger_tau_c_over_tau_k\":0.008,\n",
    "    \"start_sources_at_tau_c_over_tau_h\" : 0.006,\n",
    "    \"l_max_g\":50,\n",
    "    \"l_max_pol_g\":25,\n",
    "    \"l_max_ur\":50,\n",
    "    \"tol_perturb_integration\":1.e-6,\n",
    "    \"perturb_sampling_stepsize\":0.01,\n",
    "    \"radiation_streaming_approximation\" : 2,\n",
    "    \"radiation_streaming_trigger_tau_over_tau_k\" : 240.,\n",
    "    \"radiation_streaming_trigger_tau_c_over_tau\" : 100.,\n",
    "    \"ur_fluid_approximation\" : 2,\n",
    "    \"ur_fluid_trigger_tau_over_tau_k\" : 50.,\n",
    "    \"ncdm_fluid_approximation\" : 3,\n",
    "    \"ncdm_fluid_trigger_tau_over_tau_k\" : 51.,\n",
    "    \"l_logstep\":1.026,\n",
    "    \"l_linstep\":25,\n",
    "    \"hyper_sampling_flat\" : 12.,\n",
    "    \"hyper_sampling_curved_low_nu\" : 10.,\n",
    "    \"hyper_sampling_curved_high_nu\" : 10.,\n",
    "    \"hyper_nu_sampling_step\" : 10.,\n",
    "    \"hyper_phi_min_abs\" : 1.e-10,\n",
    "    \"hyper_x_tol\" : 1.e-4,\n",
    "    \"hyper_flat_approximation_nu\" : 1.e6,\n",
    "    \"q_linstep\":0.20,\n",
    "    \"q_logstep_spline\": 20.,\n",
    "    \"q_logstep_trapzd\" : 0.5,\n",
    "    \"q_numstep_transition\" : 250,\n",
    "    \"transfer_neglect_delta_k_S_t0\" : 100.,\n",
    "    \"transfer_neglect_delta_k_S_t1\" : 100.,\n",
    "    \"transfer_neglect_delta_k_S_t2\" : 100.,\n",
    "    \"transfer_neglect_delta_k_S_e\" : 100.,\n",
    "    \"transfer_neglect_delta_k_V_t1\" : 100.,\n",
    "    \"transfer_neglect_delta_k_V_t2\" : 100.,\n",
    "    \"transfer_neglect_delta_k_V_e\" : 100.,\n",
    "    \"transfer_neglect_delta_k_V_b\" : 100.,\n",
    "    \"transfer_neglect_delta_k_T_t2\" : 100.,\n",
    "    \"transfer_neglect_delta_k_T_e\" : 100.,\n",
    "    \"transfer_neglect_delta_k_T_b\" : 100.,\n",
    "    \"neglect_CMB_sources_below_visibility\" : 1.e-30,\n",
    "    \"transfer_neglect_late_source\" : 3000.,\n",
    "    'P_k_max_1/Mpc':40,\n",
    "                    #'hmcode2020log10tagn':7.8\n",
    "    'T_ncdm': 0.7133,  # IMPORTANT, see page 11 of arxiv:1104.2935\n",
    "    'N_ur':2.0308,\n",
    "    'N_ncdm':1,\n",
    "    'm_ncdm' : 0.06,\n",
    "              'ncdm_fluid_approximation':3,\n",
    "    #'nonlinear_verbose' = 2\n",
    "}\n",
    "cosmo = Class()\n",
    "cosmo.set(common_settings)\n",
    "cosmo.compute()\n",
    "pkclass_dm = np.array([cosmo.pk(ki,0) for ki in k])\n",
    "pkclass_lin = np.array([cosmo.pk_lin(ki,0) for ki in k])\n"
   ]
  },
  {
   "cell_type": "code",
   "execution_count": 24,
   "id": "5712f582",
   "metadata": {},
   "outputs": [
    {
     "ename": "NameError",
     "evalue": "name 'pkclass_lin' is not defined",
     "output_type": "error",
     "traceback": [
      "\u001b[0;31m---------------------------------------------------------------------------\u001b[0m",
      "\u001b[0;31mNameError\u001b[0m                                 Traceback (most recent call last)",
      "\u001b[0;32m<ipython-input-24-9141495ba8a9>\u001b[0m in \u001b[0;36m<module>\u001b[0;34m\u001b[0m\n\u001b[0;32m----> 1\u001b[0;31m \u001b[0mplt\u001b[0m\u001b[0;34m.\u001b[0m\u001b[0msemilogx\u001b[0m\u001b[0;34m(\u001b[0m\u001b[0mk\u001b[0m\u001b[0;34m/\u001b[0m\u001b[0mh\u001b[0m\u001b[0;34m,\u001b[0m\u001b[0;34m(\u001b[0m\u001b[0mpkclass_lin\u001b[0m\u001b[0;34m*\u001b[0m\u001b[0mh\u001b[0m\u001b[0;34m**\u001b[0m\u001b[0;36m3\u001b[0m\u001b[0;34m)\u001b[0m\u001b[0;34m/\u001b[0m\u001b[0mPk_CAMB_lin\u001b[0m\u001b[0;34m-\u001b[0m\u001b[0;36m1\u001b[0m\u001b[0;34m,\u001b[0m \u001b[0mlabel\u001b[0m\u001b[0;34m=\u001b[0m\u001b[0;34m\"linear\"\u001b[0m\u001b[0;34m)\u001b[0m\u001b[0;34m\u001b[0m\u001b[0;34m\u001b[0m\u001b[0m\n\u001b[0m",
      "\u001b[0;31mNameError\u001b[0m: name 'pkclass_lin' is not defined"
     ]
    }
   ],
   "source": [
    "plt.semilogx(k/h,(pkclass_lin*h**3)/Pk_CAMB_lin-1, label=\"linear\")\n"
   ]
  },
  {
   "cell_type": "code",
   "execution_count": null,
   "id": "3dd10424",
   "metadata": {},
   "outputs": [],
   "source": [
    "plt.loglog(k/h,Pk_CAMB, label=\"camb\")\n",
    "plt.loglog(k/h,(pkclass*h**3))\n",
    "plt.legend()"
   ]
  },
  {
   "cell_type": "code",
   "execution_count": null,
   "id": "9f0e2a5f",
   "metadata": {},
   "outputs": [],
   "source": [
    "plt.loglog(k/h,Pk_CAMB_DMonly, label=\"camb dm\")\n",
    "plt.loglog(k/h,(pkclass_dm*h**3))\n",
    "plt.legend()"
   ]
  },
  {
   "cell_type": "code",
   "execution_count": null,
   "id": "21ad8815",
   "metadata": {},
   "outputs": [],
   "source": [
    "cosmo = Class()\n",
    "cosmo.set(common_settings)\n",
    "cosmo.compute()\n",
    "pkclass = np.array([cosmo.pk(ki,0) for ki in k])"
   ]
  },
  {
   "cell_type": "code",
   "execution_count": 27,
   "id": "116b1f42",
   "metadata": {},
   "outputs": [
    {
     "data": {
      "text/plain": [
       "[<matplotlib.lines.Line2D at 0x7fe7f0c729a0>]"
      ]
     },
     "execution_count": 27,
     "metadata": {},
     "output_type": "execute_result"
    },
    {
     "data": {
      "image/png": "[encoded data removed]",
      "text/plain": [
       "<Figure size 432x288 with 1 Axes>"
      ]
     },
     "metadata": {
      "needs_background": "light"
     },
     "output_type": "display_data"
    }
   ],
   "source": [
    "plt.semilogx(k/h,(pkclass*h**3)/(pkclass_dm*h**3)-1, label=\"hmcode class\")\n"
   ]
  },
  {
   "cell_type": "code",
   "execution_count": 27,
   "id": "c4bf5ea1",
   "metadata": {},
   "outputs": [
    {
     "data": {
      "text/plain": [
       "[<matplotlib.lines.Line2D at 0x7f51483df250>]"
      ]
     },
     "execution_count": 27,
     "metadata": {},
     "output_type": "execute_result"
    },
    {
     "data": {
      "image/png": "[encoded data removed]",
      "text/plain": [
       "<Figure size 432x288 with 1 Axes>"
      ]
     },
     "metadata": {
      "needs_background": "light"
     },
     "output_type": "display_data"
    }
   ],
   "source": [
    "plt.semilogx(k/h,(Pk_CAMB)/(Pk_CAMB_DMonly)-1, label=\"hmcode class\")\n"
   ]
  },
  {
   "cell_type": "code",
   "execution_count": 28,
   "id": "be1f0f30",
   "metadata": {},
   "outputs": [
    {
     "data": {
      "text/plain": [
       "[<matplotlib.lines.Line2D at 0x7f50e8010e50>]"
      ]
     },
     "execution_count": 28,
     "metadata": {},
     "output_type": "execute_result"
    },
    {
     "data": {
      "image/png": "[encoded data removed]",
      "text/plain": [
       "<Figure size 432x288 with 1 Axes>"
      ]
     },
     "metadata": {
      "needs_background": "light"
     },
     "output_type": "display_data"
    }
   ],
   "source": [
    "plt.semilogx(k/h,(pkclass_dm*h**3)/(Pk_CAMB_DMonly)-1, label=\"hmcode class\")\n"
   ]
  },
  {
   "cell_type": "code",
   "execution_count": 29,
   "id": "d60a26e9",
   "metadata": {},
   "outputs": [
    {
     "data": {
      "text/plain": [
       "Text(0.5, 0, '')"
      ]
     },
     "execution_count": 29,
     "metadata": {},
     "output_type": "execute_result"
    },
    {
     "data": {
      "image/png": "[encoded data removed]",
      "text/plain": [
       "<Figure size 432x288 with 1 Axes>"
      ]
     },
     "metadata": {
      "needs_background": "light"
     },
     "output_type": "display_data"
    }
   ],
   "source": [
    "plt.semilogx(k/h,(pkclass*h**3)/Pk_CAMB-1, label=\"hmcode class\")\n",
    "plt.xlabel(\"\")"
   ]
  },
  {
   "cell_type": "code",
   "execution_count": 30,
   "id": "6cc67d86",
   "metadata": {},
   "outputs": [
    {
     "data": {
      "text/plain": [
       "[<matplotlib.lines.Line2D at 0x7f50e3d59040>]"
      ]
     },
     "execution_count": 30,
     "metadata": {},
     "output_type": "execute_result"
    },
    {
     "data": {
      "image/png": "[encoded data removed]",
      "text/plain": [
       "<Figure size 432x288 with 1 Axes>"
      ]
     },
     "metadata": {
      "needs_background": "light"
     },
     "output_type": "display_data"
    }
   ],
   "source": [
    "#plt.ylim(-2.5E-3,1E-3)\n",
    "#plt.semilogx(k/h,Pk_hmcode[0]/Pk_CAMB-1, label=\"hmcode class\")"
   ]
  },
  {
   "cell_type": "code",
   "execution_count": 32,
   "id": "38b0b927",
   "metadata": {},
   "outputs": [
    {
     "data": {
      "text/plain": [
       "{'output': 'mPk',\n",
       " 'lensing': 'no',\n",
       " 'omega_b': 0.02225,\n",
       " 'omega_cdm': 0.1198,\n",
       " 'h': 1,\n",
       " 'A_s': 2.100549e-09,\n",
       " 'n_s': 0.9645,\n",
       " 'tau_reio': 0.06,\n",
       " 'YHe': 0.24,\n",
       " 'non linear': 'HMcode2020',\n",
       " 'l_switch_limber': 40.0,\n",
       " 'accurate_lensing': 1,\n",
       " 'num_mu_minus_lmax': 1000.0,\n",
       " 'delta_l_max': 1000.0,\n",
       " 'recfast_Nz0': 100000,\n",
       " 'tol_thermo_integration': 1e-05,\n",
       " 'recfast_x_He0_trigger_delta': 0.01,\n",
       " 'recfast_x_H0_trigger_delta': 0.01,\n",
       " 'evolver': 0,\n",
       " 'k_min_tau0': 0.002,\n",
       " 'k_max_tau0_over_l_max': 10.0,\n",
       " 'k_step_sub': 0.015,\n",
       " 'k_step_super': 0.0001,\n",
       " 'k_step_super_reduction': 0.1,\n",
       " 'start_small_k_at_tau_c_over_tau_h': 0.0004,\n",
       " 'start_large_k_at_tau_h_over_tau_k': 0.05,\n",
       " 'tight_coupling_trigger_tau_c_over_tau_h': 0.005,\n",
       " 'tight_coupling_trigger_tau_c_over_tau_k': 0.008,\n",
       " 'start_sources_at_tau_c_over_tau_h': 0.006,\n",
       " 'l_max_g': 50,\n",
       " 'l_max_pol_g': 25,\n",
       " 'l_max_ur': 50,\n",
       " 'tol_perturb_integration': 1e-06,\n",
       " 'perturb_sampling_stepsize': 0.01,\n",
       " 'radiation_streaming_approximation': 2,\n",
       " 'radiation_streaming_trigger_tau_over_tau_k': 240.0,\n",
       " 'radiation_streaming_trigger_tau_c_over_tau': 100.0,\n",
       " 'ur_fluid_approximation': 2,\n",
       " 'ur_fluid_trigger_tau_over_tau_k': 50.0,\n",
       " 'ncdm_fluid_approximation': 3,\n",
       " 'ncdm_fluid_trigger_tau_over_tau_k': 51.0,\n",
       " 'l_logstep': 1.026,\n",
       " 'l_linstep': 25,\n",
       " 'hyper_sampling_flat': 12.0,\n",
       " 'hyper_sampling_curved_low_nu': 10.0,\n",
       " 'hyper_sampling_curved_high_nu': 10.0,\n",
       " 'hyper_nu_sampling_step': 10.0,\n",
       " 'hyper_phi_min_abs': 1e-10,\n",
       " 'hyper_x_tol': 0.0001,\n",
       " 'hyper_flat_approximation_nu': 1000000.0,\n",
       " 'q_linstep': 0.2,\n",
       " 'q_logstep_spline': 20.0,\n",
       " 'q_logstep_trapzd': 0.5,\n",
       " 'q_numstep_transition': 250,\n",
       " 'transfer_neglect_delta_k_S_t0': 100.0,\n",
       " 'transfer_neglect_delta_k_S_t1': 100.0,\n",
       " 'transfer_neglect_delta_k_S_t2': 100.0,\n",
       " 'transfer_neglect_delta_k_S_e': 100.0,\n",
       " 'transfer_neglect_delta_k_V_t1': 100.0,\n",
       " 'transfer_neglect_delta_k_V_t2': 100.0,\n",
       " 'transfer_neglect_delta_k_V_e': 100.0,\n",
       " 'transfer_neglect_delta_k_V_b': 100.0,\n",
       " 'transfer_neglect_delta_k_T_t2': 100.0,\n",
       " 'transfer_neglect_delta_k_T_e': 100.0,\n",
       " 'transfer_neglect_delta_k_T_b': 100.0,\n",
       " 'neglect_CMB_sources_below_visibility': 1e-30,\n",
       " 'transfer_neglect_late_source': 3000.0,\n",
       " 'P_k_max_1/Mpc': 40,\n",
       " 'T_ncdm': 0.7133,\n",
       " 'N_ur': 2.0308,\n",
       " 'N_ncdm': 1,\n",
       " 'm_ncdm': 0.06}"
      ]
     },
     "execution_count": 32,
     "metadata": {},
     "output_type": "execute_result"
    }
   ],
   "source": [
    "common_settings"
   ]
  },
  {
   "cell_type": "code",
   "execution_count": 59,
   "id": "9c678930",
   "metadata": {},
   "outputs": [],
   "source": [
    "common_settings = {# wich output? ClTT, transfer functions delta_i and theta_i\n",
    "\n",
    "    'output': 'mPk',\n",
    "    'lensing': 'no',\n",
    "    'omega_b' : 0.02225,\n",
    "    'omega_cdm' : 0.1198,\n",
    "    'h' : h,\n",
    "     'A_s' : 2.100549e-09,\n",
    "    'tau_reio' : 0.06,\n",
    "    'YHe' : 0.24,\n",
    "                        'non linear':\"HMcode2020\",\n",
    "\n",
    "    #'halofit_k_per_decade' : 3000.,\n",
    "    #'l_switch_limber' : 40.,\n",
    "    #'accurate_lensing':1,\n",
    "    #'num_mu_minus_lmax' : 1000.,\n",
    "    #'delta_l_max' : 1000.,\n",
    "#\n",
    "    #\"recfast_Nz0\":100000,\n",
    "    #\"tol_thermo_integration\":1.e-5,\n",
    "    #\"recfast_x_He0_trigger_delta\" : 0.01,\n",
    "    #\"recfast_x_H0_trigger_delta\" : 0.01,\n",
    "    #\"evolver\":0,\n",
    "    #\"k_min_tau0\":0.002,\n",
    "    #\"k_max_tau0_over_l_max\":10.,\n",
    "    #\"k_step_sub\":0.015,\n",
    "    #\"k_step_super\":0.0001,\n",
    "    #\"k_step_super_reduction\":0.1,\n",
    "    #\"start_small_k_at_tau_c_over_tau_h\" : 0.0004,\n",
    "    #\"start_large_k_at_tau_h_over_tau_k\" : 0.05,\n",
    "    #\"tight_coupling_trigger_tau_c_over_tau_h\":0.005,\n",
    "    #\"tight_coupling_trigger_tau_c_over_tau_k\":0.008,\n",
    "    #\"start_sources_at_tau_c_over_tau_h\" : 0.006,\n",
    "    #\"l_max_g\":50,\n",
    "    #\"l_max_pol_g\":25,\n",
    "    #\"l_max_ur\":50,\n",
    "    #\"tol_perturb_integration\":1.e-6,\n",
    "    #\"perturb_sampling_stepsize\":0.01,\n",
    "    #\"radiation_streaming_approximation\" : 2,\n",
    "    #\"radiation_streaming_trigger_tau_over_tau_k\" : 240.,\n",
    "    #\"radiation_streaming_trigger_tau_c_over_tau\" : 100.,\n",
    "    #\"ur_fluid_approximation\" : 2,\n",
    "    #\"ur_fluid_trigger_tau_over_tau_k\" : 50.,\n",
    "    #\"ncdm_fluid_approximation\" : 3,\n",
    "    #\"ncdm_fluid_trigger_tau_over_tau_k\" : 51.,\n",
    "    #\"l_logstep\":1.026,\n",
    "    #\"l_linstep\":25,\n",
    "    #\"hyper_sampling_flat\" : 12.,\n",
    "    #\"hyper_sampling_curved_low_nu\" : 10.,\n",
    "    #\"hyper_sampling_curved_high_nu\" : 10.,\n",
    "    #\"hyper_nu_sampling_step\" : 10.,\n",
    "    #\"hyper_phi_min_abs\" : 1.e-10,\n",
    "    #\"hyper_x_tol\" : 1.e-4,\n",
    "    #\"hyper_flat_approximation_nu\" : 1.e6,\n",
    "    #\"q_linstep\":0.20,\n",
    "    #\"q_logstep_spline\": 20.,\n",
    "    #\"q_logstep_trapzd\" : 0.5,\n",
    "    #\"q_numstep_transition\" : 250,\n",
    "    #\"transfer_neglect_delta_k_S_t0\" : 100.,\n",
    "    #\"transfer_neglect_delta_k_S_t1\" : 100.,\n",
    "    #\"transfer_neglect_delta_k_S_t2\" : 100.,\n",
    "    #\"transfer_neglect_delta_k_S_e\" : 100.,\n",
    "    #\"transfer_neglect_delta_k_V_t1\" : 100.,\n",
    "    #\"transfer_neglect_delta_k_V_t2\" : 100.,\n",
    "    #\"transfer_neglect_delta_k_V_e\" : 100.,\n",
    "    #\"transfer_neglect_delta_k_V_b\" : 100.,\n",
    "    #\"transfer_neglect_delta_k_T_t2\" : 100.,\n",
    "    #\"transfer_neglect_delta_k_T_e\" : 100.,\n",
    "    #\"transfer_neglect_delta_k_T_b\" : 100.,\n",
    "    #\"neglect_CMB_sources_below_visibility\" : 1.e-30,\n",
    "    #\"transfer_neglect_late_source\" : 3000.,\n",
    "#\n",
    "    'P_k_max_1/Mpc':40,\n",
    "    'N_ur':2.046,\n",
    "    'N_ncdm':1,\n",
    "    'm_ncdm' : 0.06\n",
    "}"
   ]
  },
  {
   "cell_type": "code",
   "execution_count": 60,
   "id": "f2c0d7ad",
   "metadata": {},
   "outputs": [
    {
     "data": {
      "text/plain": [
       "{'output': 'mPk',\n",
       " 'lensing': 'no',\n",
       " 'omega_b': 0.02225,\n",
       " 'omega_cdm': 0.1198,\n",
       " 'h': 1,\n",
       " 'A_s': 2.100549e-09,\n",
       " 'tau_reio': 0.06,\n",
       " 'YHe': 0.24,\n",
       " 'non linear': 'HMcode2020',\n",
       " 'P_k_max_1/Mpc': 40,\n",
       " 'N_ur': 2.046,\n",
       " 'N_ncdm': 1,\n",
       " 'm_ncdm': 0.06}"
      ]
     },
     "execution_count": 60,
     "metadata": {},
     "output_type": "execute_result"
    }
   ],
   "source": [
    "common_settings"
   ]
  },
  {
   "cell_type": "code",
   "execution_count": 61,
   "id": "adfafe42",
   "metadata": {},
   "outputs": [],
   "source": [
    "cosmo = Class()\n",
    "cosmo.set(common_settings)\n",
    "cosmo.compute()\n",
    "pkclass_dm = np.array([cosmo.pk(ki,0) for ki in k])\n"
   ]
  },
  {
   "cell_type": "code",
   "execution_count": 62,
   "id": "b6e67785",
   "metadata": {},
   "outputs": [],
   "source": [
    "pdict = {}\n",
    "from copy import deepcopy as copy\n",
    "for Tagn in np.linspace(7.8,8.4,10):\n",
    "    common_settings_in=copy(common_settings)\n",
    "    common_settings_in['hmcode2020log10tagn']=Tagn\n",
    "    cosmo = Class()\n",
    "    cosmo.set(common_settings_in)\n",
    "    cosmo.compute()\n",
    "    pkclass = np.array([cosmo.pk(ki,0) for ki in k])\n",
    "    pdict[Tagn]=pkclass"
   ]
  },
  {
   "cell_type": "code",
   "execution_count": 64,
   "id": "518b9952",
   "metadata": {},
   "outputs": [
    {
     "data": {
      "text/plain": [
       "<matplotlib.legend.Legend at 0x7fe72c255b50>"
      ]
     },
     "execution_count": 64,
     "metadata": {},
     "output_type": "execute_result"
    },
    {
     "data": {
      "image/png": "[encoded data removed]",
      "text/plain": [
       "<Figure size 432x288 with 1 Axes>"
      ]
     },
     "metadata": {
      "needs_background": "light"
     },
     "output_type": "display_data"
    }
   ],
   "source": [
    "for Tagn in np.linspace(7.8,8.4,10):\n",
    "    plt.semilogx(k/h,1-(pdict[Tagn]*h**3)/(pkclass_dm*h**3), label=\"Tagn={0:.2f}\".format(Tagn))\n",
    "plt.ylabel(\"slope\")\n",
    "plt.xlabel(\"k(h/Mpc)\")\n",
    "plt.legend()\n",
    "#plt.ylim(0,3)\n",
    "#plt.ylim(5E-3, 2E-1)\n"
   ]
  },
  {
   "cell_type": "code",
   "execution_count": 66,
   "id": "f6068972",
   "metadata": {},
   "outputs": [
    {
     "name": "stderr",
     "output_type": "stream",
     "text": [
      "<ipython-input-66-63b8ec7f732d>:2: RuntimeWarning: invalid value encountered in log\n",
      "  dy = np.gradient(np.log(1-(pdict[Tagn]*h**3)/(pkclass_dm*h**3)))\n",
      "<ipython-input-66-63b8ec7f732d>:2: RuntimeWarning: invalid value encountered in log\n",
      "  dy = np.gradient(np.log(1-(pdict[Tagn]*h**3)/(pkclass_dm*h**3)))\n",
      "<ipython-input-66-63b8ec7f732d>:2: RuntimeWarning: invalid value encountered in log\n",
      "  dy = np.gradient(np.log(1-(pdict[Tagn]*h**3)/(pkclass_dm*h**3)))\n",
      "<ipython-input-66-63b8ec7f732d>:2: RuntimeWarning: invalid value encountered in log\n",
      "  dy = np.gradient(np.log(1-(pdict[Tagn]*h**3)/(pkclass_dm*h**3)))\n",
      "<ipython-input-66-63b8ec7f732d>:2: RuntimeWarning: invalid value encountered in log\n",
      "  dy = np.gradient(np.log(1-(pdict[Tagn]*h**3)/(pkclass_dm*h**3)))\n",
      "<ipython-input-66-63b8ec7f732d>:2: RuntimeWarning: invalid value encountered in log\n",
      "  dy = np.gradient(np.log(1-(pdict[Tagn]*h**3)/(pkclass_dm*h**3)))\n",
      "<ipython-input-66-63b8ec7f732d>:2: RuntimeWarning: invalid value encountered in log\n",
      "  dy = np.gradient(np.log(1-(pdict[Tagn]*h**3)/(pkclass_dm*h**3)))\n",
      "<ipython-input-66-63b8ec7f732d>:2: RuntimeWarning: invalid value encountered in log\n",
      "  dy = np.gradient(np.log(1-(pdict[Tagn]*h**3)/(pkclass_dm*h**3)))\n",
      "<ipython-input-66-63b8ec7f732d>:2: RuntimeWarning: invalid value encountered in log\n",
      "  dy = np.gradient(np.log(1-(pdict[Tagn]*h**3)/(pkclass_dm*h**3)))\n",
      "<ipython-input-66-63b8ec7f732d>:2: RuntimeWarning: invalid value encountered in log\n",
      "  dy = np.gradient(np.log(1-(pdict[Tagn]*h**3)/(pkclass_dm*h**3)))\n"
     ]
    },
    {
     "data": {
      "text/plain": [
       "(0.0, 3.0)"
      ]
     },
     "execution_count": 66,
     "metadata": {},
     "output_type": "execute_result"
    },
    {
     "data": {
      "image/png": "[encoded data removed]",
      "text/plain": [
       "<Figure size 432x288 with 1 Axes>"
      ]
     },
     "metadata": {
      "needs_background": "light"
     },
     "output_type": "display_data"
    }
   ],
   "source": [
    "for Tagn in np.linspace(7.8,8.4,10):\n",
    "    dy = np.gradient(np.log(1-(pdict[Tagn]*h**3)/(pkclass_dm*h**3)))\n",
    "    dx = np.gradient(np.log(k/h))\n",
    "    plt.semilogx(k/h,dy/dx, label=\"Tagn={0:.2f}\".format(Tagn))\n",
    "plt.ylabel(\"slope\")\n",
    "plt.xlabel(\"k(h/Mpc)\")\n",
    "plt.legend()\n",
    "plt.ylim(0,3)\n",
    "#plt.ylim(5E-3, 2E-1)\n"
   ]
  },
  {
   "cell_type": "code",
   "execution_count": 1,
   "id": "48113239",
   "metadata": {},
   "outputs": [],
   "source": [
    "import astropy"
   ]
  },
  {
   "cell_type": "code",
   "execution_count": 5,
   "id": "d53af585",
   "metadata": {},
   "outputs": [],
   "source": [
    "from astropy.cosmology import Planck15\n",
    "import numpy as np"
   ]
  },
  {
   "cell_type": "code",
   "execution_count": 12,
   "id": "5d241522",
   "metadata": {},
   "outputs": [
    {
     "data": {
      "text/latex": [
       "$2.0765818 \\; \\mathrm{\\frac{Mpc^{3}}{sr}}$"
      ],
      "text/plain": [
       "<Quantity 2.07658176 Mpc3 / sr>"
      ]
     },
     "execution_count": 12,
     "metadata": {},
     "output_type": "execute_result"
    }
   ],
   "source": [
    "x=np.linspace(0,2,200)\n",
    "def integrand(z):\n",
    "    return Planck15.differential_comoving_volume(z)*(5000)*(np.pi/180)**2/(4*np.pi)\n",
    "from scipy.integrate import trapz\n",
    "trapz(integrand(x),x)/1E9*0.7**3"
   ]
  },
  {
   "cell_type": "code",
   "execution_count": null,
   "id": "413c74be",
   "metadata": {},
   "outputs": [],
   "source": []
  }
 ],
 "metadata": {
  "kernelspec": {
   "display_name": "Python 3",
   "language": "python",
   "name": "python3"
  },
  "language_info": {
   "codemirror_mode": {
    "name": "ipython",
    "version": 3
   },
   "file_extension": ".py",
   "mimetype": "text/x-python",
   "name": "python",
   "nbconvert_exporter": "python",
   "pygments_lexer": "ipython3",
   "version": "3.9.7"
  }
 },
 "nbformat": 4,
 "nbformat_minor": 5
}
